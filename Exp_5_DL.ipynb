{
  "nbformat": 4,
  "nbformat_minor": 0,
  "metadata": {
    "colab": {
      "provenance": [],
      "authorship_tag": "ABX9TyOEWMgrCNOOsuDHzeHG70s+",
      "include_colab_link": true
    },
    "kernelspec": {
      "name": "python3",
      "display_name": "Python 3"
    },
    "language_info": {
      "name": "python"
    }
  },
  "cells": [
    {
      "cell_type": "markdown",
      "metadata": {
        "id": "view-in-github",
        "colab_type": "text"
      },
      "source": [
        "<a href=\"https://colab.research.google.com/github/DivyanshRana1515/Deep-Learning-Lab-/blob/main/Exp_5_DL.ipynb\" target=\"_parent\"><img src=\"https://colab.research.google.com/assets/colab-badge.svg\" alt=\"Open In Colab\"/></a>"
      ]
    },
    {
      "cell_type": "code",
      "execution_count": 1,
      "metadata": {
        "colab": {
          "base_uri": "https://localhost:8080/"
        },
        "id": "6Tff16AYT9_4",
        "outputId": "7702171e-f1e7-4748-f2b2-342f21f4c4c7"
      },
      "outputs": [
        {
          "output_type": "stream",
          "name": "stdout",
          "text": [
            "0,0 -> 0\n",
            "0,1 -> 0\n",
            "1,0 -> 0\n",
            "1,1 -> 1\n"
          ]
        }
      ],
      "source": [
        "def perceptron_and(x1, x2):\n",
        "    w1, w2, bias = 1, 1, -1\n",
        "    z = w1*x1 + w2*x2 + bias\n",
        "    return 1 if z > 0 else 0\n",
        "\n",
        "# Verify all input combinations\n",
        "for x1, x2 in [(0,0),(0,1),(1,0),(1,1)]:\n",
        "    print(f\"{x1},{x2} -> {perceptron_and(x1,x2)}\")"
      ]
    },
    {
      "cell_type": "code",
      "source": [
        "import numpy as np\n",
        "from tensorflow.keras.models import Sequential\n",
        "from tensorflow.keras.layers import Dense\n",
        "\n",
        "# XOR dataset\n",
        "X = np.array([[0,0],[0,1],[1,0],[1,1]], dtype=float)\n",
        "Y = np.array([[0],[1],[1],[0]], dtype=float)\n",
        "\n",
        "# Define a small MLP: 2 inputs -> 2 hidden -> 1 output\n",
        "model = Sequential([\n",
        "    Dense(2, activation='sigmoid', input_shape=(2,)),  # hidden layer\n",
        "    Dense(1, activation='sigmoid')                    # output layer\n",
        "])\n",
        "\n",
        "model.compile(optimizer='adam', loss='binary_crossentropy', metrics=['accuracy'])\n",
        "model.fit(X, Y, epochs=500, verbose=0)\n",
        "preds = (model.predict(X) > 0.5).astype(int)\n",
        "print(\"Predictions:\", preds.T, \"Actual:\", Y.T)\n"
      ],
      "metadata": {
        "colab": {
          "base_uri": "https://localhost:8080/"
        },
        "id": "-UYoeCPeU0jt",
        "outputId": "95ff1b23-fec3-4ac7-e916-021d386ab041"
      },
      "execution_count": 2,
      "outputs": [
        {
          "output_type": "stream",
          "name": "stderr",
          "text": [
            "/usr/local/lib/python3.12/dist-packages/keras/src/layers/core/dense.py:93: UserWarning: Do not pass an `input_shape`/`input_dim` argument to a layer. When using Sequential models, prefer using an `Input(shape)` object as the first layer in the model instead.\n",
            "  super().__init__(activity_regularizer=activity_regularizer, **kwargs)\n"
          ]
        },
        {
          "output_type": "stream",
          "name": "stdout",
          "text": [
            "\u001b[1m1/1\u001b[0m \u001b[32m━━━━━━━━━━━━━━━━━━━━\u001b[0m\u001b[37m\u001b[0m \u001b[1m0s\u001b[0m 111ms/step\n",
            "Predictions: [[0 1 0 1]] Actual: [[0. 1. 1. 0.]]\n"
          ]
        }
      ]
    },
    {
      "cell_type": "code",
      "source": [
        "import os\n",
        "import numpy as np\n",
        "import cv2\n",
        "from sklearn.model_selection import train_test_split\n",
        "from sklearn.preprocessing import LabelBinarizer\n",
        "from tensorflow.keras.models import Sequential\n",
        "from tensorflow.keras.layers import Dense, Dropout\n",
        "import kagglehub\n",
        "\n",
        "# Download dataset\n",
        "data_path = kagglehub.dataset_download(\"gti-upm/leapgestrecog\")\n",
        "print(\"Dataset Path:\", data_path)\n",
        "\n",
        "# Go inside \"leapGestRecog\" folder if present\n",
        "if \"leapGestRecog\" in os.listdir(data_path):\n",
        "    data_path = os.path.join(data_path, \"leapGestRecog\")\n",
        "\n",
        "print(\"Using data folder:\", data_path)\n",
        "\n",
        "# Load dataset\n",
        "X, y = [], []\n",
        "for person in os.listdir(data_path):\n",
        "    person_path = os.path.join(data_path, person)\n",
        "    if not os.path.isdir(person_path):\n",
        "        continue\n",
        "    for gesture in os.listdir(person_path):\n",
        "        gesture_path = os.path.join(person_path, gesture)\n",
        "        if not os.path.isdir(gesture_path):\n",
        "            continue\n",
        "        for img_file in os.listdir(gesture_path):\n",
        "            img_path = os.path.join(gesture_path, img_file)\n",
        "            img = cv2.imread(img_path, cv2.IMREAD_GRAYSCALE)  # grayscale\n",
        "            if img is None:\n",
        "                continue\n",
        "            img = cv2.resize(img, (50, 50))                  # resize to 50x50\n",
        "            X.append(img.flatten())                          # flatten into 1D\n",
        "            y.append(gesture)                                # label = gesture name\n",
        "\n",
        "X = np.array(X, dtype=\"float32\") / 255.0  # normalize\n",
        "y = np.array(y)\n",
        "\n",
        "print(\"Dataset loaded:\", X.shape, y.shape)\n",
        "\n",
        "# One-hot encode labels\n",
        "encoder = LabelBinarizer()\n",
        "y = encoder.fit_transform(y)\n",
        "print(\"Classes:\", encoder.classes_)\n",
        "\n",
        "# Train-test split\n",
        "X_train, X_test, y_train, y_test = train_test_split(X, y, test_size=0.2, random_state=42, stratify=y)\n",
        "\n",
        "# Build MLP model\n",
        "model = Sequential([\n",
        "    Dense(512, activation='relu', input_shape=(2500,)),  # 50*50=2500 features\n",
        "    Dropout(0.3),\n",
        "    Dense(256, activation='relu'),\n",
        "    Dropout(0.3),\n",
        "    Dense(y.shape[1], activation='softmax')              # number of gesture classes\n",
        "])\n",
        "\n",
        "model.compile(optimizer='adam', loss='categorical_crossentropy', metrics=['accuracy'])\n",
        "\n",
        "# Train\n",
        "history = model.fit(X_train, y_train, epochs=20, batch_size=64, validation_split=0.2, verbose=1)\n",
        "\n",
        "# Evaluate\n",
        "loss, acc = model.evaluate(X_test, y_test, verbose=0)\n",
        "print(f\"Test Accuracy: {acc*100:.2f}%\")\n",
        "\n",
        "# Predictions\n",
        "preds = np.argmax(model.predict(X_test[:10]), axis=1)\n",
        "actual = np.argmax(y_test[:10], axis=1)\n",
        "print(\"Predictions:\", preds)\n",
        "print(\"Actual:\", actual)\n"
      ],
      "metadata": {
        "colab": {
          "base_uri": "https://localhost:8080/"
        },
        "id": "nId3-mijU6Sg",
        "outputId": "c42b580c-4bda-4e3d-8bdb-ee01942ce961"
      },
      "execution_count": 3,
      "outputs": [
        {
          "output_type": "stream",
          "name": "stdout",
          "text": [
            "Downloading from https://www.kaggle.com/api/v1/datasets/download/gti-upm/leapgestrecog?dataset_version_number=1...\n"
          ]
        },
        {
          "output_type": "stream",
          "name": "stderr",
          "text": [
            "100%|██████████| 2.13G/2.13G [00:19<00:00, 114MB/s]"
          ]
        },
        {
          "output_type": "stream",
          "name": "stdout",
          "text": [
            "Extracting files...\n"
          ]
        },
        {
          "output_type": "stream",
          "name": "stderr",
          "text": [
            "\n"
          ]
        },
        {
          "output_type": "stream",
          "name": "stdout",
          "text": [
            "Dataset Path: /root/.cache/kagglehub/datasets/gti-upm/leapgestrecog/versions/1\n",
            "Using data folder: /root/.cache/kagglehub/datasets/gti-upm/leapgestrecog/versions/1/leapGestRecog\n",
            "Dataset loaded: (20000, 2500) (20000,)\n",
            "Classes: ['01_palm' '02_l' '03_fist' '04_fist_moved' '05_thumb' '06_index' '07_ok'\n",
            " '08_palm_moved' '09_c' '10_down']\n"
          ]
        },
        {
          "output_type": "stream",
          "name": "stderr",
          "text": [
            "/usr/local/lib/python3.12/dist-packages/keras/src/layers/core/dense.py:93: UserWarning: Do not pass an `input_shape`/`input_dim` argument to a layer. When using Sequential models, prefer using an `Input(shape)` object as the first layer in the model instead.\n",
            "  super().__init__(activity_regularizer=activity_regularizer, **kwargs)\n"
          ]
        },
        {
          "output_type": "stream",
          "name": "stdout",
          "text": [
            "Epoch 1/20\n",
            "\u001b[1m200/200\u001b[0m \u001b[32m━━━━━━━━━━━━━━━━━━━━\u001b[0m\u001b[37m\u001b[0m \u001b[1m7s\u001b[0m 29ms/step - accuracy: 0.5493 - loss: 1.3266 - val_accuracy: 0.9653 - val_loss: 0.1288\n",
            "Epoch 2/20\n",
            "\u001b[1m200/200\u001b[0m \u001b[32m━━━━━━━━━━━━━━━━━━━━\u001b[0m\u001b[37m\u001b[0m \u001b[1m9s\u001b[0m 25ms/step - accuracy: 0.9612 - loss: 0.1495 - val_accuracy: 0.9941 - val_loss: 0.0275\n",
            "Epoch 3/20\n",
            "\u001b[1m200/200\u001b[0m \u001b[32m━━━━━━━━━━━━━━━━━━━━\u001b[0m\u001b[37m\u001b[0m \u001b[1m5s\u001b[0m 24ms/step - accuracy: 0.9894 - loss: 0.0496 - val_accuracy: 0.9972 - val_loss: 0.0135\n",
            "Epoch 4/20\n",
            "\u001b[1m200/200\u001b[0m \u001b[32m━━━━━━━━━━━━━━━━━━━━\u001b[0m\u001b[37m\u001b[0m \u001b[1m6s\u001b[0m 29ms/step - accuracy: 0.9899 - loss: 0.0393 - val_accuracy: 0.9953 - val_loss: 0.0125\n",
            "Epoch 5/20\n",
            "\u001b[1m200/200\u001b[0m \u001b[32m━━━━━━━━━━━━━━━━━━━━\u001b[0m\u001b[37m\u001b[0m \u001b[1m11s\u001b[0m 31ms/step - accuracy: 0.9901 - loss: 0.0307 - val_accuracy: 0.9953 - val_loss: 0.0172\n",
            "Epoch 6/20\n",
            "\u001b[1m200/200\u001b[0m \u001b[32m━━━━━━━━━━━━━━━━━━━━\u001b[0m\u001b[37m\u001b[0m \u001b[1m9s\u001b[0m 26ms/step - accuracy: 0.9902 - loss: 0.0319 - val_accuracy: 0.9962 - val_loss: 0.0116\n",
            "Epoch 7/20\n",
            "\u001b[1m200/200\u001b[0m \u001b[32m━━━━━━━━━━━━━━━━━━━━\u001b[0m\u001b[37m\u001b[0m \u001b[1m10s\u001b[0m 25ms/step - accuracy: 0.9922 - loss: 0.0245 - val_accuracy: 0.9984 - val_loss: 0.0066\n",
            "Epoch 8/20\n",
            "\u001b[1m200/200\u001b[0m \u001b[32m━━━━━━━━━━━━━━━━━━━━\u001b[0m\u001b[37m\u001b[0m \u001b[1m6s\u001b[0m 31ms/step - accuracy: 0.9953 - loss: 0.0160 - val_accuracy: 0.9975 - val_loss: 0.0112\n",
            "Epoch 9/20\n",
            "\u001b[1m200/200\u001b[0m \u001b[32m━━━━━━━━━━━━━━━━━━━━\u001b[0m\u001b[37m\u001b[0m \u001b[1m9s\u001b[0m 26ms/step - accuracy: 0.9959 - loss: 0.0171 - val_accuracy: 0.9987 - val_loss: 0.0056\n",
            "Epoch 10/20\n",
            "\u001b[1m200/200\u001b[0m \u001b[32m━━━━━━━━━━━━━━━━━━━━\u001b[0m\u001b[37m\u001b[0m \u001b[1m10s\u001b[0m 25ms/step - accuracy: 0.9935 - loss: 0.0223 - val_accuracy: 0.9975 - val_loss: 0.0119\n",
            "Epoch 11/20\n",
            "\u001b[1m200/200\u001b[0m \u001b[32m━━━━━━━━━━━━━━━━━━━━\u001b[0m\u001b[37m\u001b[0m \u001b[1m6s\u001b[0m 31ms/step - accuracy: 0.9912 - loss: 0.0323 - val_accuracy: 0.9987 - val_loss: 0.0032\n",
            "Epoch 12/20\n",
            "\u001b[1m200/200\u001b[0m \u001b[32m━━━━━━━━━━━━━━━━━━━━\u001b[0m\u001b[37m\u001b[0m \u001b[1m5s\u001b[0m 24ms/step - accuracy: 0.9953 - loss: 0.0166 - val_accuracy: 0.9975 - val_loss: 0.0079\n",
            "Epoch 13/20\n",
            "\u001b[1m200/200\u001b[0m \u001b[32m━━━━━━━━━━━━━━━━━━━━\u001b[0m\u001b[37m\u001b[0m \u001b[1m5s\u001b[0m 27ms/step - accuracy: 0.9952 - loss: 0.0156 - val_accuracy: 0.9994 - val_loss: 0.0023\n",
            "Epoch 14/20\n",
            "\u001b[1m200/200\u001b[0m \u001b[32m━━━━━━━━━━━━━━━━━━━━\u001b[0m\u001b[37m\u001b[0m \u001b[1m5s\u001b[0m 27ms/step - accuracy: 0.9928 - loss: 0.0229 - val_accuracy: 0.9997 - val_loss: 0.0042\n",
            "Epoch 15/20\n",
            "\u001b[1m200/200\u001b[0m \u001b[32m━━━━━━━━━━━━━━━━━━━━\u001b[0m\u001b[37m\u001b[0m \u001b[1m11s\u001b[0m 32ms/step - accuracy: 0.9945 - loss: 0.0180 - val_accuracy: 0.9987 - val_loss: 0.0029\n",
            "Epoch 16/20\n",
            "\u001b[1m200/200\u001b[0m \u001b[32m━━━━━━━━━━━━━━━━━━━━\u001b[0m\u001b[37m\u001b[0m \u001b[1m11s\u001b[0m 36ms/step - accuracy: 0.9892 - loss: 0.0362 - val_accuracy: 0.9994 - val_loss: 0.0015\n",
            "Epoch 17/20\n",
            "\u001b[1m200/200\u001b[0m \u001b[32m━━━━━━━━━━━━━━━━━━━━\u001b[0m\u001b[37m\u001b[0m \u001b[1m5s\u001b[0m 24ms/step - accuracy: 0.9983 - loss: 0.0064 - val_accuracy: 0.9994 - val_loss: 0.0020\n",
            "Epoch 18/20\n",
            "\u001b[1m200/200\u001b[0m \u001b[32m━━━━━━━━━━━━━━━━━━━━\u001b[0m\u001b[37m\u001b[0m \u001b[1m5s\u001b[0m 25ms/step - accuracy: 0.9994 - loss: 0.0025 - val_accuracy: 0.9997 - val_loss: 4.4948e-04\n",
            "Epoch 19/20\n",
            "\u001b[1m200/200\u001b[0m \u001b[32m━━━━━━━━━━━━━━━━━━━━\u001b[0m\u001b[37m\u001b[0m \u001b[1m6s\u001b[0m 30ms/step - accuracy: 0.9913 - loss: 0.0255 - val_accuracy: 0.9984 - val_loss: 0.0026\n",
            "Epoch 20/20\n",
            "\u001b[1m200/200\u001b[0m \u001b[32m━━━━━━━━━━━━━━━━━━━━\u001b[0m\u001b[37m\u001b[0m \u001b[1m5s\u001b[0m 25ms/step - accuracy: 0.9955 - loss: 0.0133 - val_accuracy: 0.9987 - val_loss: 0.0038\n",
            "Test Accuracy: 99.87%\n",
            "\u001b[1m1/1\u001b[0m \u001b[32m━━━━━━━━━━━━━━━━━━━━\u001b[0m\u001b[37m\u001b[0m \u001b[1m0s\u001b[0m 72ms/step\n",
            "Predictions: [3 7 4 9 0 2 6 8 3 0]\n",
            "Actual: [3 7 4 9 0 2 6 8 3 0]\n"
          ]
        }
      ]
    },
    {
      "cell_type": "code",
      "source": [],
      "metadata": {
        "id": "USnzhwAjVJEo"
      },
      "execution_count": null,
      "outputs": []
    }
  ]
}